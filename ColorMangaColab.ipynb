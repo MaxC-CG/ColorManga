{
 "cells": [
  {
   "cell_type": "markdown",
   "metadata": {
    "colab_type": "text",
    "id": "pv88vHA_RBm5"
   },
   "source": [
    "# Colab运行版本ColorManga\n",
    "    \n",
    "如果您希望在Colab中运行ColorManga，请使用此Notebook(切勿在本地运行)"
   ]
  },
  {
   "cell_type": "markdown",
   "metadata": {
    "colab_type": "text",
    "id": "ZjPqTBNoohK9"
   },
   "source": [
    "## 特别注意\n",
    "在使用Colab时您需要确保您的会话：\n",
    "* 使用Python 3环境\n",
    "* 使用GPU硬件 \n"
   ]
  },
  {
   "cell_type": "code",
   "execution_count": 0,
   "metadata": {
    "colab": {},
    "colab_type": "code",
    "id": "00_GcC_trpdE"
   },
   "outputs": [],
   "source": [
    "import torch\n",
    "\n",
    "if not torch.cuda.is_available():\n",
    "    print('无法启用GPU！')"
   ]
  },
  {
   "cell_type": "markdown",
   "metadata": {
    "colab_type": "text",
    "id": "gaEJBGDlptEo"
   },
   "source": [
    "### 克隆整个仓库"
   ]
  },
  {
   "cell_type": "code",
   "execution_count": 0,
   "metadata": {
    "colab": {},
    "colab_type": "code",
    "id": "-T-svuHytJ-8"
   },
   "outputs": [],
   "source": [
    "!git clone https://github.com/MaxC-UI/ColorManga.git ColorManga "
   ]
  },
  {
   "cell_type": "code",
   "execution_count": 0,
   "metadata": {
    "colab": {},
    "colab_type": "code",
    "id": "QvKOHkCtRBnK"
   },
   "outputs": [],
   "source": [
    "cd ColorManga"
   ]
  },
  {
   "cell_type": "markdown",
   "metadata": {
    "colab_type": "text",
    "id": "BDFjbNxaadNJ"
   },
   "source": [
    "### 进行环境初始化"
   ]
  },
  {
   "cell_type": "code",
   "execution_count": 0,
   "metadata": {
    "colab": {},
    "colab_type": "code",
    "id": "Lsx7xCXNSVt6"
   },
   "outputs": [],
   "source": [
    "!pip install -r colab_requirements.txt"
   ]
  },
  {
   "cell_type": "code",
   "execution_count": 0,
   "metadata": {
    "colab": {},
    "colab_type": "code",
    "id": "MsJa69CMwj3l"
   },
   "outputs": [],
   "source": [
    "import fastai\n",
    "from deoldify.visualize import *\n",
    "\n",
    "torch.backends.cudnn.benchmark = True"
   ]
  },
  {
   "cell_type": "markdown",
   "metadata": {},
   "source": [
    "### 载入模型"
   ]
  },
  {
   "cell_type": "code",
   "execution_count": 0,
   "metadata": {
    "colab": {},
    "colab_type": "code",
    "id": "TfUuhe2oRBnU"
   },
   "outputs": [],
   "source": [
    "!mkdir 'models'\n",
    "!wget https://www.dropbox.com/s/kotmxfd5bck2fzj/ColorManga_models.pth?dl=0 -O ./models/ColorizeArtistic_gen.pth"
   ]
  },
  {
   "cell_type": "code",
   "execution_count": 0,
   "metadata": {
    "colab": {},
    "colab_type": "code",
    "id": "LQigt1yrRBnX"
   },
   "outputs": [],
   "source": [
    "stats = ([0.7137, 0.6628, 0.6519],[0.2970, 0.3017, 0.2979])"
   ]
  },
  {
   "cell_type": "code",
   "execution_count": 0,
   "metadata": {
    "colab": {},
    "colab_type": "code",
    "id": "tzHVnegp21hC"
   },
   "outputs": [],
   "source": [
    "colorizer = get_image_colorizer(artistic=True,stats=stats)"
   ]
  },
  {
   "cell_type": "markdown",
   "metadata": {
    "colab_type": "text",
    "id": "GCTX7rh8RBnc"
   },
   "source": [
    "# 使用说明\n",
    "\n",
    "### source_url参数\n",
    "输入图像的URL，你需要先将它们托管在某一个网站上(比如Imgur)并复制链接。如果你想在本地(Colab存储上)使用自己的图片，你可以设置source_url为None，然后将图片存放在./test_images/。只要确保source_path参数与文件匹配即可。\n",
    "\n",
    "### source_path参数\n",
    "输入图像的本地路径(Colab存储上)，请确保此时source_url=None。\n",
    "\n",
    "### render_factor参数\n",
    "这是渲染因子，默认为12，对于大多数场景应该可以工作(但可能不是最好的)。这决定了图像的颜色部分所呈现的分辨率。较低的分辨率会渲染得更快，颜色也会看起来更鲜艳。特别是较老和较低质量的图像通常会受益于降低渲染因子。更高的渲染因子通常对更高质量的图像更好，但颜色可能会略有失真。\n",
    "\n",
    "### watermarked参数\n",
    "默认情况下，这将在图像的左下角放置一个调色板的水印图标。这是一种标准的方式，以传达给其他看到图像的人，它是由人工智能着色。\n",
    "\n",
    "### post_process参数\n",
    "图像后处理。在默认情况下选中，将输出图像，而不进行后处理。对于包含一些阴影的图像，后处理会得到不错的效果。\n",
    "\n",
    "### result_path参数\n",
    "输出图像的路径，默认可以无需更改。\n",
    "\n",
    "### 如何保存结果图片\n",
    "右键点击输出的结果图片，之后另存为到你需要保存的路径。\n",
    "\n",
    "\n",
    "## 建议\n",
    "你可以使用最底部的代码(\"查看不同渲染因子(render_factor)对结果的影响\")来选择最优的结果。\n",
    "\n",
    "\n",
    "## 提示\n",
    "如果出现了'CUDA out of memory'错误，你可能使用了过高的渲染因子。11GB显存显卡的最大渲染因子为45。"
   ]
  },
  {
   "cell_type": "code",
   "execution_count": 0,
   "metadata": {
    "colab": {},
    "colab_type": "code",
    "id": "cs5LejISRBne"
   },
   "outputs": [],
   "source": [
    "source_url = 'https://i.imgur.com/Fik1kPG.jpg' #@param {type:\"string\"}\n",
    "render_factor = 12 #@param {type:\"slider\", min:7, max:45, step:1}\n",
    "watermarked = False #@param {type:\"boolean\"}\n",
    "\n",
    "if source_url is not None and source_url !='':\n",
    "    image_path = colorizer.plot_transformed_image_from_url(url=source_url, render_factor=render_factor, compare=True, post_process=False, watermarked=watermarked)\n",
    "    show_image_in_notebook(image_path)\n",
    "else:\n",
    "    print('输入错误，请重新输入图像URL！')"
   ]
  },
  {
   "cell_type": "markdown",
   "metadata": {
    "colab_type": "text",
    "id": "sssDIJAiRBng"
   },
   "source": [
    "## 查看不同渲染因子(render_factor)对结果的影响"
   ]
  },
  {
   "cell_type": "code",
   "execution_count": 0,
   "metadata": {
    "colab": {},
    "colab_type": "code",
    "id": "JsfAFN_RRBnh"
   },
   "outputs": [],
   "source": [
    "for i in range(10,45,2):\n",
    "    colorizer.plot_transformed_image('test_images/21.jpg', render_factor=i, display_render_factor=True, post_process=True, figsize=(8,8))"
   ]
  }
 ],
 "metadata": {
  "accelerator": "GPU",
  "colab": {
   "collapsed_sections": [],
   "include_colab_link": true,
   "name": "ImageColorizerColab.ipynb",
   "provenance": [],
   "toc_visible": true
  },
  "kernelspec": {
   "display_name": "Python 3",
   "language": "python",
   "name": "python3"
  },
  "language_info": {
   "codemirror_mode": {
    "name": "ipython",
    "version": 3
   },
   "file_extension": ".py",
   "mimetype": "text/x-python",
   "name": "python",
   "nbconvert_exporter": "python",
   "pygments_lexer": "ipython3",
   "version": "3.8.5"
  }
 },
 "nbformat": 4,
 "nbformat_minor": 1
}
