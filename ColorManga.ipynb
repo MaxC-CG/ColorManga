{
 "cells": [
  {
   "cell_type": "markdown",
   "metadata": {},
   "source": [
    "# 本地运行版本ColorManga\n",
    "    \n",
    "如果您希望在本地运行ColorManga，请使用此Notebook(切勿在Colab运行)"
   ]
  },
  {
   "cell_type": "code",
   "execution_count": 1,
   "metadata": {},
   "outputs": [],
   "source": [
    "%load_ext autoreload\n",
    "%autoreload 2\n",
    "%matplotlib inline"
   ]
  },
  {
   "cell_type": "code",
   "execution_count": 2,
   "metadata": {},
   "outputs": [],
   "source": [
    "import os\n",
    "os.environ['CUDA_VISIBLE_DEVICES']='0' "
   ]
  },
  {
   "cell_type": "code",
   "execution_count": 3,
   "metadata": {},
   "outputs": [],
   "source": [
    "#import numpy as np\n",
    "#import cv2\n",
    "#import os"
   ]
  },
  {
   "cell_type": "code",
   "execution_count": 4,
   "metadata": {},
   "outputs": [],
   "source": [
    "from deoldify.visualize import *\n",
    "plt.style.use('dark_background')\n",
    "torch.backends.cudnn.benchmark=True"
   ]
  },
  {
   "cell_type": "code",
   "execution_count": null,
   "metadata": {},
   "outputs": [],
   "source": [
    "!mkdir 'models'\n",
    "!wget https://www.dropbox.com/s/kotmxfd5bck2fzj/ColorManga_models.pth?dl=0 -O ./models/ColorizeArtistic_gen.pth"
   ]
  },
  {
   "cell_type": "code",
   "execution_count": 5,
   "metadata": {},
   "outputs": [],
   "source": [
    "stats = ([0.7137, 0.6628, 0.6519],[0.2970, 0.3017, 0.2979])"
   ]
  },
  {
   "cell_type": "code",
   "execution_count": null,
   "metadata": {},
   "outputs": [],
   "source": [
    "如果着色表现不佳，您可以将get_image_colorizer中的artistic设为False，这样会以稳定的模型运行，可能会得到更好地效果"
   ]
  },
  {
   "cell_type": "code",
   "execution_count": null,
   "metadata": {},
   "outputs": [],
   "source": [
    "colorizer = get_image_colorizer(artistic=True,stats=stats)"
   ]
  },
  {
   "cell_type": "markdown",
   "metadata": {},
   "source": [
    "# 使用说明\n",
    "\n",
    "### source_url参数\n",
    "输入图像的URL，你需要先将它们托管在某一个网站上并复制链接。如果你想在本地使用自己的图片，你可以设置source_url为None，然后将图片存放在./test_images/。只要确保source_path参数与文件匹配即可。\n",
    "\n",
    "### source_path参数\n",
    "输入图像的本地路径，请确保此时source_url=None。\n",
    "\n",
    "### render_factor参数\n",
    "这是渲染因子，默认为35，对于大多数场景应该可以工作(但可能不是最好的)。这决定了图像的颜色部分所呈现的分辨率。较低的分辨率会渲染得更快，颜色也会看起来更鲜艳。特别是较老和较低质量的图像通常会受益于降低渲染因子。更高的渲染因子通常对更高质量的图像更好，但颜色可能会略有失真。\n",
    "\n",
    "### result_path参数\n",
    "输出图像的路径，默认可以无需更改。\n",
    "\n",
    "### 如何保存结果图片\n",
    "右键点击输出的结果图片，之后另存为到你需要保存的路径。\n",
    "\n",
    "\n",
    "## 建议\n",
    "你可以使用最底部的代码(\"查看不同渲染因子(render_factor)对结果的影响\")来选择最优的结果。\n",
    "另外你也可以在前一部分的get_image_colorizer中将artistic设为False，这也许会有更好的效果。\n",
    "\n",
    "\n",
    "## 提示\n",
    "如果出现了'CUDA out of memory'错误，你可能使用了过高的渲染因子。11GB显存显卡的最大渲染因子为45。"
   ]
  },
  {
   "cell_type": "code",
   "execution_count": null,
   "metadata": {},
   "outputs": [],
   "source": [
    "render_factor=35\n",
    "source_url=None\n",
    "source_path = 'test_images/21.jpg'\n",
    "result_path = None\n",
    "\n",
    "if source_url is not None:\n",
    "    result_path = colorizer.plot_transformed_image_from_url(url=source_url, path=source_path, post_process=True,render_factor=render_factor,compare=True)\n",
    "else:\n",
    "    result_path = colorizer.plot_transformed_image(path=source_path, render_factor=render_factor, post_process=True,compare=True)\n",
    "\n",
    "show_image_in_notebook(result_path)"
   ]
  },
  {
   "cell_type": "markdown",
   "metadata": {},
   "source": [
    "## 查看不同渲染因子(render_factor)对结果的影响"
   ]
  },
  {
   "cell_type": "code",
   "execution_count": null,
   "metadata": {},
   "outputs": [],
   "source": [
    "for i in range(10,46):\n",
    "    colorizer.plot_transformed_image(source_path, render_factor=i, display_render_factor=True, post_process=True, figsize=(10,10))"
   ]
  }
 ],
 "metadata": {
  "kernelspec": {
   "display_name": "Python 3",
   "language": "python",
   "name": "python3"
  },
  "language_info": {
   "codemirror_mode": {
    "name": "ipython",
    "version": 3
   },
   "file_extension": ".py",
   "mimetype": "text/x-python",
   "name": "python",
   "nbconvert_exporter": "python",
   "pygments_lexer": "ipython3",
   "version": "3.8.5"
  },
  "toc": {
   "colors": {
    "hover_highlight": "#DAA520",
    "navigate_num": "#000000",
    "navigate_text": "#333333",
    "running_highlight": "#FF0000",
    "selected_highlight": "#FFD700",
    "sidebar_border": "#EEEEEE",
    "wrapper_background": "#FFFFFF"
   },
   "moveMenuLeft": true,
   "nav_menu": {
    "height": "67px",
    "width": "252px"
   },
   "navigate_menu": true,
   "number_sections": true,
   "sideBar": true,
   "threshold": 4,
   "toc_cell": false,
   "toc_section_display": "block",
   "toc_window_display": false,
   "widenNotebook": false
  }
 },
 "nbformat": 4,
 "nbformat_minor": 4
}
